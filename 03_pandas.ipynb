{
 "metadata": {
  "kernelspec": {
   "display_name": "Python 3",
   "language": "python",
   "name": "python3"
  },
  "language_info": {
   "codemirror_mode": {
    "name": "ipython",
    "version": 3
   },
   "file_extension": ".py",
   "mimetype": "text/x-python",
   "name": "python",
   "nbconvert_exporter": "python",
   "pygments_lexer": "ipython3",
   "version": "3.6.5"
  },
  "name": "",
  "signature": "sha256:8c76fd50487d3c47f163567f777342af2222f2a51ca6c3a4bbe49a995102ab3e"
 },
 "nbformat": 3,
 "nbformat_minor": 0,
 "worksheets": [
  {
   "cells": [
    {
     "cell_type": "markdown",
     "metadata": {},
     "source": [
      "# pandas\n",
      "Here we will have a quick play with a pandas DataFrame and use what we've learned about accessing them to answer some questions.\n",
      "\n",
      "We stopped ten people in the street and asked them what pets they have. We also recorded the person's sex and age."
     ]
    },
    {
     "cell_type": "code",
     "collapsed": false,
     "input": [
      "import numpy as np\n",
      "import pandas as pd"
     ],
     "language": "python",
     "metadata": {},
     "outputs": [],
     "prompt_number": 1
    },
    {
     "cell_type": "code",
     "collapsed": false,
     "input": [
      "pets = pd.DataFrame({'sex': np.array(['M', 'M', 'F', 'M', 'F', 'F', 'F', 'M', 'F', 'M']),\n",
      "                   'age': np.array([21, 45, 23, 56, 47, 70, 34, 30, 19, 62]),\n",
      "                   'pets': np.array([['cat', 'dog'],\n",
      "                                    ['hamster'],\n",
      "                                    ['cat', 'gerbil'],\n",
      "                                    ['fish', 'hamster', 'gerbil'],\n",
      "                                    ['cat'],\n",
      "                                    ['dog'],\n",
      "                                    ['dog'],\n",
      "                                    ['cat'],\n",
      "                                    ['rabbit', 'cat'],\n",
      "                                    ['dog']])})"
     ],
     "language": "python",
     "metadata": {},
     "outputs": [],
     "prompt_number": 2
    },
    {
     "cell_type": "markdown",
     "metadata": {},
     "source": [
      "We have been asked to analyse the survey responses. In particular, we have been given the questions\n",
      "\n",
      "* What sex was the youngest respondent?\n",
      "* What age was the person with the most pets?\n",
      "* What was the most popular pet?\n",
      "* What was the average age of dog owners?\n"
     ]
    },
    {
     "cell_type": "markdown",
     "metadata": {},
     "source": [
      "Firstly, let's just look at the data. It's not very big so we don't actually even need to use head()."
     ]
    },
    {
     "cell_type": "code",
     "collapsed": false,
     "input": [
      "pets"
     ],
     "language": "python",
     "metadata": {},
     "outputs": [
      {
       "html": [
        "<div style=\"max-width:1500px;overflow:auto;\">\n",
        "<table border=\"1\" class=\"dataframe\">\n",
        "  <thead>\n",
        "    <tr style=\"text-align: right;\">\n",
        "      <th></th>\n",
        "      <th>age</th>\n",
        "      <th>pets</th>\n",
        "      <th>sex</th>\n",
        "    </tr>\n",
        "  </thead>\n",
        "  <tbody>\n",
        "    <tr>\n",
        "      <th>0</th>\n",
        "      <td>21</td>\n",
        "      <td>[cat, dog]</td>\n",
        "      <td>M</td>\n",
        "    </tr>\n",
        "    <tr>\n",
        "      <th>1</th>\n",
        "      <td>45</td>\n",
        "      <td>[hamster]</td>\n",
        "      <td>M</td>\n",
        "    </tr>\n",
        "    <tr>\n",
        "      <th>2</th>\n",
        "      <td>23</td>\n",
        "      <td>[cat, gerbil]</td>\n",
        "      <td>F</td>\n",
        "    </tr>\n",
        "    <tr>\n",
        "      <th>3</th>\n",
        "      <td>56</td>\n",
        "      <td>[fish, hamster, gerbil]</td>\n",
        "      <td>M</td>\n",
        "    </tr>\n",
        "    <tr>\n",
        "      <th>4</th>\n",
        "      <td>47</td>\n",
        "      <td>[cat]</td>\n",
        "      <td>F</td>\n",
        "    </tr>\n",
        "    <tr>\n",
        "      <th>5</th>\n",
        "      <td>70</td>\n",
        "      <td>[dog]</td>\n",
        "      <td>F</td>\n",
        "    </tr>\n",
        "    <tr>\n",
        "      <th>6</th>\n",
        "      <td>34</td>\n",
        "      <td>[dog]</td>\n",
        "      <td>F</td>\n",
        "    </tr>\n",
        "    <tr>\n",
        "      <th>7</th>\n",
        "      <td>30</td>\n",
        "      <td>[cat]</td>\n",
        "      <td>M</td>\n",
        "    </tr>\n",
        "    <tr>\n",
        "      <th>8</th>\n",
        "      <td>19</td>\n",
        "      <td>[rabbit, cat]</td>\n",
        "      <td>F</td>\n",
        "    </tr>\n",
        "    <tr>\n",
        "      <th>9</th>\n",
        "      <td>62</td>\n",
        "      <td>[dog]</td>\n",
        "      <td>M</td>\n",
        "    </tr>\n",
        "  </tbody>\n",
        "</table>\n",
        "</div>"
       ],
       "metadata": {},
       "output_type": "pyout",
       "prompt_number": 3,
       "text": [
        "   age                     pets sex\n",
        "0   21               [cat, dog]   M\n",
        "1   45                [hamster]   M\n",
        "2   23            [cat, gerbil]   F\n",
        "3   56  [fish, hamster, gerbil]   M\n",
        "4   47                    [cat]   F\n",
        "5   70                    [dog]   F\n",
        "6   34                    [dog]   F\n",
        "7   30                    [cat]   M\n",
        "8   19            [rabbit, cat]   F\n",
        "9   62                    [dog]   M"
       ]
      }
     ],
     "prompt_number": 3
    },
    {
     "cell_type": "markdown",
     "metadata": {},
     "source": [
      "Notice here, as well, how the notebook has a nice default presentation for DataFrames. And, yes, you can customize this! We won't be going into that here."
     ]
    },
    {
     "cell_type": "markdown",
     "metadata": {},
     "source": [
      "## What sex was the youngest respondent?\n",
      "Hint, you might find the .loc accessor useful here. Think about breaking this task down into creating a boolean index that is True where the value in the age column is equal to the minimum of the age column. Then select the sex column."
     ]
    },
    {
     "cell_type": "code",
     "collapsed": false,
     "input": [
      "# one line of code\n",
      "pets.loc[pets['age']==pets['age'].min(),'sex']"
     ],
     "language": "python",
     "metadata": {},
     "outputs": [
      {
       "metadata": {},
       "output_type": "pyout",
       "prompt_number": 9,
       "text": [
        "8    F\n",
        "Name: sex, dtype: object"
       ]
      }
     ],
     "prompt_number": 9
    },
    {
     "cell_type": "markdown",
     "metadata": {},
     "source": [
      "We see that the youngest respondent was female (F)"
     ]
    },
    {
     "cell_type": "markdown",
     "metadata": {},
     "source": [
      "## What age was the person with the most pets?\n",
      "Hint, you may find _apply_ ing len as a lambda function to the pets column useful here. Remember that calling len on the pets column will just return the length of the series, which is the number of rows in the DataFrame. In fact, adding useful features to your data is a very common thing in data science, so go ahead and create a new column in our pets DataFrame and call it 'num_pets'."
     ]
    },
    {
     "cell_type": "code",
     "collapsed": false,
     "input": [
      "# task: create new column 'num_pets' which contains the number of pets\n",
      "# each person had (hint: this is the length of each list in the pets column)\n",
      "# one line of code here:\n",
      "pets['num_pets'] =  pets['pets'].apply(lambda x: len(x))"
     ],
     "language": "python",
     "metadata": {},
     "outputs": [],
     "prompt_number": 13
    },
    {
     "cell_type": "code",
     "collapsed": false,
     "input": [
      "# view the DataFrame again to check our new column is there\n",
      "pets"
     ],
     "language": "python",
     "metadata": {},
     "outputs": [
      {
       "html": [
        "<div style=\"max-width:1500px;overflow:auto;\">\n",
        "<table border=\"1\" class=\"dataframe\">\n",
        "  <thead>\n",
        "    <tr style=\"text-align: right;\">\n",
        "      <th></th>\n",
        "      <th>age</th>\n",
        "      <th>pets</th>\n",
        "      <th>sex</th>\n",
        "      <th>num_pets</th>\n",
        "    </tr>\n",
        "  </thead>\n",
        "  <tbody>\n",
        "    <tr>\n",
        "      <th>0</th>\n",
        "      <td>21</td>\n",
        "      <td>[cat, dog]</td>\n",
        "      <td>M</td>\n",
        "      <td>2</td>\n",
        "    </tr>\n",
        "    <tr>\n",
        "      <th>1</th>\n",
        "      <td>45</td>\n",
        "      <td>[hamster]</td>\n",
        "      <td>M</td>\n",
        "      <td>1</td>\n",
        "    </tr>\n",
        "    <tr>\n",
        "      <th>2</th>\n",
        "      <td>23</td>\n",
        "      <td>[cat, gerbil]</td>\n",
        "      <td>F</td>\n",
        "      <td>2</td>\n",
        "    </tr>\n",
        "    <tr>\n",
        "      <th>3</th>\n",
        "      <td>56</td>\n",
        "      <td>[fish, hamster, gerbil]</td>\n",
        "      <td>M</td>\n",
        "      <td>3</td>\n",
        "    </tr>\n",
        "    <tr>\n",
        "      <th>4</th>\n",
        "      <td>47</td>\n",
        "      <td>[cat]</td>\n",
        "      <td>F</td>\n",
        "      <td>1</td>\n",
        "    </tr>\n",
        "    <tr>\n",
        "      <th>5</th>\n",
        "      <td>70</td>\n",
        "      <td>[dog]</td>\n",
        "      <td>F</td>\n",
        "      <td>1</td>\n",
        "    </tr>\n",
        "    <tr>\n",
        "      <th>6</th>\n",
        "      <td>34</td>\n",
        "      <td>[dog]</td>\n",
        "      <td>F</td>\n",
        "      <td>1</td>\n",
        "    </tr>\n",
        "    <tr>\n",
        "      <th>7</th>\n",
        "      <td>30</td>\n",
        "      <td>[cat]</td>\n",
        "      <td>M</td>\n",
        "      <td>1</td>\n",
        "    </tr>\n",
        "    <tr>\n",
        "      <th>8</th>\n",
        "      <td>19</td>\n",
        "      <td>[rabbit, cat]</td>\n",
        "      <td>F</td>\n",
        "      <td>2</td>\n",
        "    </tr>\n",
        "    <tr>\n",
        "      <th>9</th>\n",
        "      <td>62</td>\n",
        "      <td>[dog]</td>\n",
        "      <td>M</td>\n",
        "      <td>1</td>\n",
        "    </tr>\n",
        "  </tbody>\n",
        "</table>\n",
        "</div>"
       ],
       "metadata": {},
       "output_type": "pyout",
       "prompt_number": 14,
       "text": [
        "   age                     pets sex  num_pets\n",
        "0   21               [cat, dog]   M         2\n",
        "1   45                [hamster]   M         1\n",
        "2   23            [cat, gerbil]   F         2\n",
        "3   56  [fish, hamster, gerbil]   M         3\n",
        "4   47                    [cat]   F         1\n",
        "5   70                    [dog]   F         1\n",
        "6   34                    [dog]   F         1\n",
        "7   30                    [cat]   M         1\n",
        "8   19            [rabbit, cat]   F         2\n",
        "9   62                    [dog]   M         1"
       ]
      }
     ],
     "prompt_number": 14
    },
    {
     "cell_type": "code",
     "collapsed": false,
     "input": [
      "pets.loc[pets['num_pets'] == max(pets['num_pets']), 'age']"
     ],
     "language": "python",
     "metadata": {},
     "outputs": [
      {
       "metadata": {},
       "output_type": "pyout",
       "prompt_number": 15,
       "text": [
        "3    56\n",
        "Name: age, dtype: int32"
       ]
      }
     ],
     "prompt_number": 15
    },
    {
     "cell_type": "markdown",
     "metadata": {},
     "source": [
      "So we see the person with the most pets was 56 years old."
     ]
    },
    {
     "cell_type": "markdown",
     "metadata": {},
     "source": [
      "## What was the most popular pet?\n",
      "This is a very interesting question, given the data, because the data are arranged by respondent, not by pet. We need to _get into_ the pets column now in order to count each type of animal. To do this, we could perform a list comprehension and iterate over each list element for each Series element. But here we're going to give you a handy way to convert that Series of lists into a (longer) Series. The reason for this is to end up with another Series, which means we still have access to the powerful methods available from pandas."
     ]
    },
    {
     "cell_type": "code",
     "collapsed": false,
     "input": [
      "pet_series = pets['pets'].apply(pd.Series).stack().reset_index(drop=True)\n",
      "pet_series"
     ],
     "language": "python",
     "metadata": {},
     "outputs": [
      {
       "metadata": {},
       "output_type": "pyout",
       "prompt_number": 16,
       "text": [
        "0         cat\n",
        "1         dog\n",
        "2     hamster\n",
        "3         cat\n",
        "4      gerbil\n",
        "5        fish\n",
        "6     hamster\n",
        "7      gerbil\n",
        "8         cat\n",
        "9         dog\n",
        "10        dog\n",
        "11        cat\n",
        "12     rabbit\n",
        "13        cat\n",
        "14        dog\n",
        "dtype: object"
       ]
      }
     ],
     "prompt_number": 16
    },
    {
     "cell_type": "code",
     "collapsed": false,
     "input": [
      "# task: produce an ordered count of each animal\n",
      "# one line of code here:\n",
      "pet_series.value_counts()"
     ],
     "language": "python",
     "metadata": {},
     "outputs": [
      {
       "metadata": {},
       "output_type": "pyout",
       "prompt_number": 18,
       "text": [
        "cat        5\n",
        "dog        4\n",
        "hamster    2\n",
        "gerbil     2\n",
        "rabbit     1\n",
        "fish       1\n",
        "dtype: int64"
       ]
      }
     ],
     "prompt_number": 18
    },
    {
     "cell_type": "markdown",
     "metadata": {},
     "source": [
      "Cat is the most popular pet."
     ]
    },
    {
     "cell_type": "markdown",
     "metadata": {},
     "source": [
      "Note we could also have approached this task by iterating over the original pets column and collecting the animal as the key and the count as the value, but even this requires more explicit iterating and count incrementing, and we still need to iterate over the final result to find the maximum count. With our approach here, we can easily read the most popular pet animal from the top of the result."
     ]
    },
    {
     "cell_type": "markdown",
     "metadata": {},
     "source": [
      "## What was the average age of dog owners?\n",
      "Hint, again here you may find it useful to use a lambda function to create a boolean index which is True if a respondent said they had a dog and False otherwise."
     ]
    },
    {
     "cell_type": "code",
     "collapsed": false,
     "input": [
      "# example\n",
      "('dog' in ['dog', 'cat'], 'dog' in ['rabbit'])"
     ],
     "language": "python",
     "metadata": {},
     "outputs": [
      {
       "metadata": {},
       "output_type": "pyout",
       "prompt_number": 19,
       "text": [
        "(True, False)"
       ]
      }
     ],
     "prompt_number": 19
    },
    {
     "cell_type": "code",
     "collapsed": false,
     "input": [
      "# task: use a lambda function to test whether 'dog' is contained in each list of animals,\n",
      "# extract the age column and then chain the mean method to calculate the average age.\n",
      "# one line of code here:\n",
      "\n",
      "pets.loc[pets['pets'].apply(lambda x: 'dog' in x),'age'].mean()"
     ],
     "language": "python",
     "metadata": {},
     "outputs": [
      {
       "metadata": {},
       "output_type": "pyout",
       "prompt_number": 22,
       "text": [
        "46.75"
       ]
      }
     ],
     "prompt_number": 22
    },
    {
     "cell_type": "markdown",
     "metadata": {},
     "source": [
      "# Conclusion\n",
      "You've now seen how pandas holds tabular data, where each column can be a different type (e.g. sex is character and age is a number). Furthermore, pandas provides incredibly powerful methods for slicing and dicing the data to answer some very interesting questions using relatively little code. You're well on your journey to becoming a data ninja!"
     ]
    }
   ],
   "metadata": {}
  }
 ]
}